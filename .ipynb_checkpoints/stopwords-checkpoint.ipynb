{
 "cells": [
  {
   "cell_type": "code",
   "execution_count": null,
   "id": "58200b67",
   "metadata": {},
   "outputs": [],
   "source": [
    "!pip install konlpy"
   ]
  },
  {
   "cell_type": "code",
   "execution_count": null,
   "id": "6688f638",
   "metadata": {},
   "outputs": [],
   "source": [
    "import pandas as pd\n",
    "from tqdm import tqdm\n",
    "\n",
    "# 형태소 분석기\n",
    "from konlpy.tag import Okt"
   ]
  },
  {
   "cell_type": "code",
   "execution_count": null,
   "id": "3f7bcdaa",
   "metadata": {},
   "outputs": [],
   "source": [
    "# 데이터 불러오기\n",
    "df = pd.read_csv('./data/news_data.csv')"
   ]
  },
  {
   "cell_type": "code",
   "execution_count": null,
   "id": "d5d0d336",
   "metadata": {},
   "outputs": [],
   "source": [
    "# 뉴스 기사에서 명사만 추출하기\n",
    "okt = Okt()\n",
    "noun_list = []\n",
    "for content in tqdm(df['content']):\n",
    "    nouns = okt.nouns(content)\n",
    "    noun_list.append(nouns)\n",
    "    \n",
    "df[\"nouns\"] = noun_list"
   ]
  },
  {
   "cell_type": "code",
   "execution_count": null,
   "id": "bc3149c3",
   "metadata": {},
   "outputs": [],
   "source": [
    "# 명사리스트가 비어 있으면 해당 인덱스 지우고 초기화\n",
    "drop_index_list = []\n",
    "for i, row in df.iterrows():\n",
    "    temp_nouns = df['nouns']\n",
    "    if len(temp_nouns) == 0: \n",
    "        drop_index_list.append(i)\n",
    "\n",
    "df = df.drop(drop_index_list)\n",
    "\n",
    "df.index = range(len(df))"
   ]
  }
 ],
 "metadata": {
  "kernelspec": {
   "display_name": "Python 3 (ipykernel)",
   "language": "python",
   "name": "python3"
  },
  "language_info": {
   "codemirror_mode": {
    "name": "ipython",
    "version": 3
   },
   "file_extension": ".py",
   "mimetype": "text/x-python",
   "name": "python",
   "nbconvert_exporter": "python",
   "pygments_lexer": "ipython3",
   "version": "3.9.16"
  }
 },
 "nbformat": 4,
 "nbformat_minor": 5
}
